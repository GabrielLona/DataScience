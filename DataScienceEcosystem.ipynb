{
  "nbformat": 4,
  "nbformat_minor": 0,
  "metadata": {
    "colab": {
      "provenance": [],
      "authorship_tag": "ABX9TyNfJJS+HgeKWFkkFOgtQ0Gw",
      "include_colab_link": true
    },
    "kernelspec": {
      "name": "python3",
      "display_name": "Python 3"
    },
    "language_info": {
      "name": "python"
    }
  },
  "cells": [
    {
      "cell_type": "markdown",
      "metadata": {
        "id": "view-in-github",
        "colab_type": "text"
      },
      "source": [
        "<a href=\"https://colab.research.google.com/github/GabrielLona/DataScience/blob/main/DataScienceEcosystem.ipynb\" target=\"_parent\"><img src=\"https://colab.research.google.com/assets/colab-badge.svg\" alt=\"Open In Colab\"/></a>"
      ]
    },
    {
      "cell_type": "markdown",
      "source": [
        "# Data Science Tools and Ecosystem"
      ],
      "metadata": {
        "id": "nUXrMpx10TIt"
      }
    },
    {
      "cell_type": "markdown",
      "source": [
        "In this notebook, Data Science Tools and Ecosystem are summarized."
      ],
      "metadata": {
        "id": "YzhqbQjz0vN1"
      }
    },
    {
      "cell_type": "markdown",
      "source": [
        "**Objectives:**\n",
        "* List popular languages for Data Science\n",
        "* List commonly used libraries used by Data Scientists\n",
        "* Indicate development environment open source tools used in data science\n",
        "* Evaluate arithmetic expressions in Python\n",
        "* Demonstrate how to create code and markdown cells"
      ],
      "metadata": {
        "id": "F11LSfVs37HJ"
      }
    },
    {
      "cell_type": "markdown",
      "source": [
        "Some of the popular languages that Data Scientists use are:\n",
        "\n",
        "1. Python\n",
        "2. R\n",
        "3. R-Studio\n",
        "4. SQL"
      ],
      "metadata": {
        "id": "X0hRTGfi0_3K"
      }
    },
    {
      "cell_type": "markdown",
      "source": [
        "Some of the commonly used libraries used by Data Scientists include:\n",
        "\n",
        "1. Pandas\n",
        "2. TensorFlow\n",
        "3. ggplot\n"
      ],
      "metadata": {
        "id": "5qgqdXgi1UbS"
      }
    },
    {
      "cell_type": "markdown",
      "source": [
        "| Data Science Tools |\n",
        "| -------------|\n",
        "| Jupyter Notebook |\n",
        "| RStudio |\n",
        "| Spyder |"
      ],
      "metadata": {
        "id": "cj7rxunv2GeL"
      }
    },
    {
      "cell_type": "markdown",
      "source": [
        "### Below are a few examples of evaluating arithmetic expressions in Python"
      ],
      "metadata": {
        "id": "uoQNrkqZ2af5"
      }
    },
    {
      "cell_type": "code",
      "source": [
        "(3*4)+5 # This a simple arithmetic expression to mutiply then add integers"
      ],
      "metadata": {
        "colab": {
          "base_uri": "https://localhost:8080/"
        },
        "id": "CC5I7CFv2IP6",
        "outputId": "69c3a571-73e2-45a8-852a-f0cb05506f1e"
      },
      "execution_count": 1,
      "outputs": [
        {
          "output_type": "execute_result",
          "data": {
            "text/plain": [
              "17"
            ]
          },
          "metadata": {},
          "execution_count": 1
        }
      ]
    },
    {
      "cell_type": "code",
      "source": [
        "200 / 60 # This will convert 200 minutes to hours by diving by 60"
      ],
      "metadata": {
        "colab": {
          "base_uri": "https://localhost:8080/"
        },
        "id": "d4hOH3v53Xea",
        "outputId": "58f5003f-e076-4cf4-89a4-e8ce6c3e82cf"
      },
      "execution_count": 2,
      "outputs": [
        {
          "output_type": "execute_result",
          "data": {
            "text/plain": [
              "3.3333333333333335"
            ]
          },
          "metadata": {},
          "execution_count": 2
        }
      ]
    },
    {
      "cell_type": "markdown",
      "source": [
        "## Autor\n",
        "\n",
        "Gabriel Lona Arias."
      ],
      "metadata": {
        "id": "pb2mWEFf5ElK"
      }
    }
  ]
}